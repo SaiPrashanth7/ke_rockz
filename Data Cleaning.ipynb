{
 "cells": [
  {
   "cell_type": "markdown",
   "metadata": {},
   "source": [
    "# Initial Data Cleaning\n"
   ]
  },
  {
   "cell_type": "code",
   "execution_count": 40,
   "metadata": {},
   "outputs": [],
   "source": [
    "import pandas as pd\n",
    "import numpy as np\n",
    "import sklearn\n",
    "import json"
   ]
  },
  {
   "cell_type": "code",
   "execution_count": 146,
   "metadata": {},
   "outputs": [],
   "source": [
    "with open('6673282.json') as f:\n",
    "    d = json.load(f)"
   ]
  },
  {
   "cell_type": "code",
   "execution_count": 147,
   "metadata": {},
   "outputs": [],
   "source": [
    "# file_data = json_normalize(data=d['data'], record_path)\n",
    "schema = {}\n",
    "fields = []\n",
    "for row in d['fields']:\n",
    "    new_row = {}\n",
    "    new_row['name'] = row['label']\n",
    "    new_row['type'] = row['type']\n",
    "    fields.append(new_row)\n",
    "schema['fields'] = fields\n",
    "\n",
    "d['schema'] = schema"
   ]
  },
  {
   "cell_type": "code",
   "execution_count": 148,
   "metadata": {},
   "outputs": [
    {
     "name": "stdout",
     "output_type": "stream",
     "text": [
      "{'fields': [{'name': 'S.No', 'type': 'string'}, {'name': 'Years', 'type': 'string'}, {'name': 'Exports Value (Rs. in Crores)', 'type': 'string'}, {'name': 'Imports Value  (Rs. in Crores)', 'type': 'string'}]}\n"
     ]
    }
   ],
   "source": [
    "print(schema)"
   ]
  },
  {
   "cell_type": "code",
   "execution_count": 149,
   "metadata": {},
   "outputs": [
    {
     "data": {
      "text/plain": [
       "[{'id': 'a', 'label': 'S.No', 'type': 'string'},\n",
       " {'id': 'b', 'label': 'Years', 'type': 'string'},\n",
       " {'id': 'c', 'label': 'Exports Value (Rs. in Crores)', 'type': 'string'},\n",
       " {'id': 'd', 'label': 'Imports Value  (Rs. in Crores)', 'type': 'string'}]"
      ]
     },
     "execution_count": 149,
     "metadata": {},
     "output_type": "execute_result"
    }
   ],
   "source": [
    "d.pop('fields')"
   ]
  },
  {
   "cell_type": "code",
   "execution_count": 150,
   "metadata": {},
   "outputs": [
    {
     "name": "stdout",
     "output_type": "stream",
     "text": [
      "{'data': [['1', '1991-92', '5389.88', '5359.21'], ['2', '1992-93', '6884.23', '7310.65'], ['3', '1993-94', '9085.8', '8111.8'], ['4', '1994-95', '12460.09', '12541.53'], ['5', '1995-96', '15832.83', '17416.72'], ['6', '1996-97', '17596.27', '14966.54'], ['7', '1997-98', '16529.64', '36877.89'], ['8', '1998-99', '18771.28', '23482.9'], ['9', '1999-00', '26983.75', '25600.16'], ['10', '2000-01', '11736.96', '18821.37'], ['11', '2001-02', '12631.24', '18628.05'], ['12', '2002-03', '25039', '35697'], ['13', '2003-04', '33068', '43798'], ['14', '2004-05', '34782', '78740'], ['15', '2005-06', '51298', '112983'], ['16', '2006-07', '67759', '159035']], 'schema': {'fields': [{'name': 'S.No', 'type': 'string'}, {'name': 'Years', 'type': 'string'}, {'name': 'Exports Value (Rs. in Crores)', 'type': 'string'}, {'name': 'Imports Value  (Rs. in Crores)', 'type': 'string'}]}}\n"
     ]
    }
   ],
   "source": [
    "print(d)"
   ]
  },
  {
   "cell_type": "code",
   "execution_count": 151,
   "metadata": {},
   "outputs": [],
   "source": [
    "# json.dumps\n",
    "\n",
    "total_df = pd.read_json(json.dumps(d), orient='table')"
   ]
  },
  {
   "cell_type": "code",
   "execution_count": 152,
   "metadata": {},
   "outputs": [],
   "source": [
    "total_df.set_index('S.No', inplace=True)"
   ]
  },
  {
   "cell_type": "code",
   "execution_count": 153,
   "metadata": {},
   "outputs": [
    {
     "data": {
      "text/html": [
       "<div>\n",
       "<style scoped>\n",
       "    .dataframe tbody tr th:only-of-type {\n",
       "        vertical-align: middle;\n",
       "    }\n",
       "\n",
       "    .dataframe tbody tr th {\n",
       "        vertical-align: top;\n",
       "    }\n",
       "\n",
       "    .dataframe thead th {\n",
       "        text-align: right;\n",
       "    }\n",
       "</style>\n",
       "<table border=\"1\" class=\"dataframe\">\n",
       "  <thead>\n",
       "    <tr style=\"text-align: right;\">\n",
       "      <th></th>\n",
       "      <th>Years</th>\n",
       "      <th>Exports Value (Rs. in Crores)</th>\n",
       "      <th>Imports Value  (Rs. in Crores)</th>\n",
       "    </tr>\n",
       "    <tr>\n",
       "      <th>S.No</th>\n",
       "      <th></th>\n",
       "      <th></th>\n",
       "      <th></th>\n",
       "    </tr>\n",
       "  </thead>\n",
       "  <tbody>\n",
       "    <tr>\n",
       "      <th>1</th>\n",
       "      <td>1991-92</td>\n",
       "      <td>5389.88</td>\n",
       "      <td>5359.21</td>\n",
       "    </tr>\n",
       "    <tr>\n",
       "      <th>2</th>\n",
       "      <td>1992-93</td>\n",
       "      <td>6884.23</td>\n",
       "      <td>7310.65</td>\n",
       "    </tr>\n",
       "    <tr>\n",
       "      <th>3</th>\n",
       "      <td>1993-94</td>\n",
       "      <td>9085.8</td>\n",
       "      <td>8111.8</td>\n",
       "    </tr>\n",
       "    <tr>\n",
       "      <th>4</th>\n",
       "      <td>1994-95</td>\n",
       "      <td>12460.09</td>\n",
       "      <td>12541.53</td>\n",
       "    </tr>\n",
       "    <tr>\n",
       "      <th>5</th>\n",
       "      <td>1995-96</td>\n",
       "      <td>15832.83</td>\n",
       "      <td>17416.72</td>\n",
       "    </tr>\n",
       "    <tr>\n",
       "      <th>6</th>\n",
       "      <td>1996-97</td>\n",
       "      <td>17596.27</td>\n",
       "      <td>14966.54</td>\n",
       "    </tr>\n",
       "    <tr>\n",
       "      <th>7</th>\n",
       "      <td>1997-98</td>\n",
       "      <td>16529.64</td>\n",
       "      <td>36877.89</td>\n",
       "    </tr>\n",
       "    <tr>\n",
       "      <th>8</th>\n",
       "      <td>1998-99</td>\n",
       "      <td>18771.28</td>\n",
       "      <td>23482.9</td>\n",
       "    </tr>\n",
       "    <tr>\n",
       "      <th>9</th>\n",
       "      <td>1999-00</td>\n",
       "      <td>26983.75</td>\n",
       "      <td>25600.16</td>\n",
       "    </tr>\n",
       "    <tr>\n",
       "      <th>10</th>\n",
       "      <td>2000-01</td>\n",
       "      <td>11736.96</td>\n",
       "      <td>18821.37</td>\n",
       "    </tr>\n",
       "    <tr>\n",
       "      <th>11</th>\n",
       "      <td>2001-02</td>\n",
       "      <td>12631.24</td>\n",
       "      <td>18628.05</td>\n",
       "    </tr>\n",
       "    <tr>\n",
       "      <th>12</th>\n",
       "      <td>2002-03</td>\n",
       "      <td>25039</td>\n",
       "      <td>35697</td>\n",
       "    </tr>\n",
       "    <tr>\n",
       "      <th>13</th>\n",
       "      <td>2003-04</td>\n",
       "      <td>33068</td>\n",
       "      <td>43798</td>\n",
       "    </tr>\n",
       "    <tr>\n",
       "      <th>14</th>\n",
       "      <td>2004-05</td>\n",
       "      <td>34782</td>\n",
       "      <td>78740</td>\n",
       "    </tr>\n",
       "    <tr>\n",
       "      <th>15</th>\n",
       "      <td>2005-06</td>\n",
       "      <td>51298</td>\n",
       "      <td>112983</td>\n",
       "    </tr>\n",
       "    <tr>\n",
       "      <th>16</th>\n",
       "      <td>2006-07</td>\n",
       "      <td>67759</td>\n",
       "      <td>159035</td>\n",
       "    </tr>\n",
       "  </tbody>\n",
       "</table>\n",
       "</div>"
      ],
      "text/plain": [
       "        Years Exports Value (Rs. in Crores) Imports Value  (Rs. in Crores)\n",
       "S.No                                                                      \n",
       "1     1991-92                       5389.88                        5359.21\n",
       "2     1992-93                       6884.23                        7310.65\n",
       "3     1993-94                        9085.8                         8111.8\n",
       "4     1994-95                      12460.09                       12541.53\n",
       "5     1995-96                      15832.83                       17416.72\n",
       "6     1996-97                      17596.27                       14966.54\n",
       "7     1997-98                      16529.64                       36877.89\n",
       "8     1998-99                      18771.28                        23482.9\n",
       "9     1999-00                      26983.75                       25600.16\n",
       "10    2000-01                      11736.96                       18821.37\n",
       "11    2001-02                      12631.24                       18628.05\n",
       "12    2002-03                         25039                          35697\n",
       "13    2003-04                         33068                          43798\n",
       "14    2004-05                         34782                          78740\n",
       "15    2005-06                         51298                         112983\n",
       "16    2006-07                         67759                         159035"
      ]
     },
     "execution_count": 153,
     "metadata": {},
     "output_type": "execute_result"
    }
   ],
   "source": [
    "total_df"
   ]
  },
  {
   "cell_type": "code",
   "execution_count": 108,
   "metadata": {},
   "outputs": [],
   "source": [
    "total_df.replace('@', '0', inplace=True)"
   ]
  },
  {
   "cell_type": "code",
   "execution_count": 154,
   "metadata": {},
   "outputs": [],
   "source": [
    "total_df.to_json('yearwise_import_export.json')"
   ]
  },
  {
   "cell_type": "code",
   "execution_count": null,
   "metadata": {},
   "outputs": [],
   "source": []
  }
 ],
 "metadata": {
  "kernelspec": {
   "display_name": "Python 3",
   "language": "python",
   "name": "python3"
  },
  "language_info": {
   "codemirror_mode": {
    "name": "ipython",
    "version": 3
   },
   "file_extension": ".py",
   "mimetype": "text/x-python",
   "name": "python",
   "nbconvert_exporter": "python",
   "pygments_lexer": "ipython3",
   "version": "3.7.4"
  }
 },
 "nbformat": 4,
 "nbformat_minor": 2
}
