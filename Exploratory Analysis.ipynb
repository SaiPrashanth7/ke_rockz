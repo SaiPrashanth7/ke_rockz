{
 "cells": [
  {
   "cell_type": "code",
   "execution_count": 40,
   "metadata": {},
   "outputs": [],
   "source": [
    "import pandas as pd\n",
    "import numpy as np\n",
    "import sklearn\n",
    "import json"
   ]
  },
  {
   "cell_type": "code",
   "execution_count": 41,
   "metadata": {},
   "outputs": [],
   "source": [
    "with open('6673271.json') as f:\n",
    "    d = json.load(f)"
   ]
  },
  {
   "cell_type": "code",
   "execution_count": 42,
   "metadata": {},
   "outputs": [],
   "source": [
    "# file_data = json_normalize(data=d['data'], record_path)\n",
    "schema = {}\n",
    "fields = []\n",
    "for row in d['fields']:\n",
    "    new_row = {}\n",
    "    new_row['name'] = row['label']\n",
    "    new_row['type'] = row['type']\n",
    "    fields.append(new_row)\n",
    "schema['fields'] = fields\n",
    "\n",
    "d['schema'] = schema"
   ]
  },
  {
   "cell_type": "code",
   "execution_count": 43,
   "metadata": {},
   "outputs": [
    {
     "name": "stdout",
     "output_type": "stream",
     "text": [
      "{'fields': [{'name': 'S.No', 'type': 'string'}, {'name': 'Description', 'type': 'string'}, {'name': 'Value of Foreign Trade Tamil Nadu (Rs.in Crores)', 'type': 'string'}, {'name': 'Value of Foreign Trade All India* (Rs.in Crores)', 'type': 'string'}, {'name': 'Percentage share of Foreign Trade through Tamil Nadu Ports to All India', 'type': 'string'}]}\n"
     ]
    }
   ],
   "source": [
    "print(schema)"
   ]
  },
  {
   "cell_type": "code",
   "execution_count": 44,
   "metadata": {},
   "outputs": [
    {
     "name": "stdout",
     "output_type": "stream",
     "text": [
      "[{'id': 'a', 'label': 'S.No', 'type': 'string'}, {'id': 'b', 'label': 'Description', 'type': 'string'}, {'id': 'c', 'label': 'Value of Foreign Trade Tamil Nadu (Rs.in Crores)', 'type': 'string'}, {'id': 'd', 'label': 'Value of Foreign Trade All India* (Rs.in Crores)', 'type': 'string'}, {'id': 'e', 'label': 'Percentage share of Foreign Trade through Tamil Nadu Ports to All India', 'type': 'string'}]\n"
     ]
    }
   ],
   "source": [
    "d.pop('fields')"
   ]
  },
  {
   "cell_type": "code",
   "execution_count": 45,
   "metadata": {},
   "outputs": [
    {
     "name": "stdout",
     "output_type": "stream",
     "text": [
      "{'data': [['1', 'Exports By Sea', '84123', 'NA', 'NA'], ['2', 'Exports By Air', '7639', 'NA', 'NA'], ['3', 'Total Exports', '91762', '655864', '13.99'], ['4', 'Imports By Sea', '154429', 'NA', 'NA'], ['5', 'Imports By Air', '35732', 'NA', 'NA'], ['6', 'Total Imports', '190161', '1012312', '18.78']], 'schema': {'fields': [{'name': 'S.No', 'type': 'string'}, {'name': 'Description', 'type': 'string'}, {'name': 'Value of Foreign Trade Tamil Nadu (Rs.in Crores)', 'type': 'string'}, {'name': 'Value of Foreign Trade All India* (Rs.in Crores)', 'type': 'string'}, {'name': 'Percentage share of Foreign Trade through Tamil Nadu Ports to All India', 'type': 'string'}]}}\n"
     ]
    }
   ],
   "source": [
    "print(d)"
   ]
  },
  {
   "cell_type": "code",
   "execution_count": 46,
   "metadata": {},
   "outputs": [],
   "source": [
    "# json.dumps\n",
    "\n",
    "total_df = pd.read_json(json.dumps(d), orient='table')"
   ]
  },
  {
   "cell_type": "code",
   "execution_count": 47,
   "metadata": {},
   "outputs": [
    {
     "data": {
      "text/html": [
       "<div>\n",
       "<style scoped>\n",
       "    .dataframe tbody tr th:only-of-type {\n",
       "        vertical-align: middle;\n",
       "    }\n",
       "\n",
       "    .dataframe tbody tr th {\n",
       "        vertical-align: top;\n",
       "    }\n",
       "\n",
       "    .dataframe thead th {\n",
       "        text-align: right;\n",
       "    }\n",
       "</style>\n",
       "<table border=\"1\" class=\"dataframe\">\n",
       "  <thead>\n",
       "    <tr style=\"text-align: right;\">\n",
       "      <th></th>\n",
       "      <th>S.No</th>\n",
       "      <th>Description</th>\n",
       "      <th>Value of Foreign Trade Tamil Nadu (Rs.in Crores)</th>\n",
       "      <th>Value of Foreign Trade All India* (Rs.in Crores)</th>\n",
       "      <th>Percentage share of Foreign Trade through Tamil Nadu Ports to All India</th>\n",
       "    </tr>\n",
       "  </thead>\n",
       "  <tbody>\n",
       "    <tr>\n",
       "      <th>0</th>\n",
       "      <td>1</td>\n",
       "      <td>Exports By Sea</td>\n",
       "      <td>84123</td>\n",
       "      <td>NA</td>\n",
       "      <td>NA</td>\n",
       "    </tr>\n",
       "    <tr>\n",
       "      <th>1</th>\n",
       "      <td>2</td>\n",
       "      <td>Exports By Air</td>\n",
       "      <td>7639</td>\n",
       "      <td>NA</td>\n",
       "      <td>NA</td>\n",
       "    </tr>\n",
       "    <tr>\n",
       "      <th>2</th>\n",
       "      <td>3</td>\n",
       "      <td>Total Exports</td>\n",
       "      <td>91762</td>\n",
       "      <td>655864</td>\n",
       "      <td>13.99</td>\n",
       "    </tr>\n",
       "    <tr>\n",
       "      <th>3</th>\n",
       "      <td>4</td>\n",
       "      <td>Imports By Sea</td>\n",
       "      <td>154429</td>\n",
       "      <td>NA</td>\n",
       "      <td>NA</td>\n",
       "    </tr>\n",
       "    <tr>\n",
       "      <th>4</th>\n",
       "      <td>5</td>\n",
       "      <td>Imports By Air</td>\n",
       "      <td>35732</td>\n",
       "      <td>NA</td>\n",
       "      <td>NA</td>\n",
       "    </tr>\n",
       "    <tr>\n",
       "      <th>5</th>\n",
       "      <td>6</td>\n",
       "      <td>Total Imports</td>\n",
       "      <td>190161</td>\n",
       "      <td>1012312</td>\n",
       "      <td>18.78</td>\n",
       "    </tr>\n",
       "  </tbody>\n",
       "</table>\n",
       "</div>"
      ],
      "text/plain": [
       "  S.No     Description Value of Foreign Trade Tamil Nadu (Rs.in Crores)  \\\n",
       "0    1  Exports By Sea                                            84123   \n",
       "1    2  Exports By Air                                             7639   \n",
       "2    3   Total Exports                                            91762   \n",
       "3    4  Imports By Sea                                           154429   \n",
       "4    5  Imports By Air                                            35732   \n",
       "5    6   Total Imports                                           190161   \n",
       "\n",
       "  Value of Foreign Trade All India* (Rs.in Crores)  \\\n",
       "0                                               NA   \n",
       "1                                               NA   \n",
       "2                                           655864   \n",
       "3                                               NA   \n",
       "4                                               NA   \n",
       "5                                          1012312   \n",
       "\n",
       "  Percentage share of Foreign Trade through Tamil Nadu Ports to All India  \n",
       "0                                                 NA                       \n",
       "1                                                 NA                       \n",
       "2                                              13.99                       \n",
       "3                                                 NA                       \n",
       "4                                                 NA                       \n",
       "5                                              18.78                       "
      ]
     },
     "execution_count": 47,
     "metadata": {},
     "output_type": "execute_result"
    }
   ],
   "source": [
    "total_df[]"
   ]
  },
  {
   "cell_type": "code",
   "execution_count": null,
   "metadata": {},
   "outputs": [],
   "source": []
  }
 ],
 "metadata": {
  "kernelspec": {
   "display_name": "Python 3",
   "language": "python",
   "name": "python3"
  },
  "language_info": {
   "codemirror_mode": {
    "name": "ipython",
    "version": 3
   },
   "file_extension": ".py",
   "mimetype": "text/x-python",
   "name": "python",
   "nbconvert_exporter": "python",
   "pygments_lexer": "ipython3",
   "version": "3.7.4"
  }
 },
 "nbformat": 4,
 "nbformat_minor": 2
}
